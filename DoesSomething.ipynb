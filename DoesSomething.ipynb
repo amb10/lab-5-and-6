{
 "cells": [
  {
   "cell_type": "code",
   "execution_count": 4,
   "metadata": {},
   "outputs": [
    {
     "name": "stdin",
     "output_type": "stream",
     "text": [
      "Enter your name:  Alex\n",
      "Enter a while number from 0-10:  4\n"
     ]
    },
    {
     "name": "stdout",
     "output_type": "stream",
     "text": [
      "Hello, Alex\n",
      "Your number in Spanish is Cuatro\n"
     ]
    }
   ],
   "source": [
    "#This is the notebook for the DoesSomething program\n",
    "def numInSpanish(num):\n",
    "    if num == 0:\n",
    "        return \"Cero\"\n",
    "    elif num == 1:\n",
    "        return \"Uno\"\n",
    "    elif num == 2:\n",
    "        return \"Dos\"\n",
    "    elif num == 3:\n",
    "        return \"Tres\"\n",
    "    elif num == 4:\n",
    "        return \"Cuatro\"\n",
    "    elif num == 5:\n",
    "        return \"Cinco\"\n",
    "    elif num == 6:\n",
    "        return \"Seis\"\n",
    "    elif num == 7:\n",
    "        return \"Siete\"\n",
    "    elif num == 8:\n",
    "        return \"Ocho\"\n",
    "    elif num == 9:\n",
    "        return \"Nueve\"\n",
    "    elif num == 10:\n",
    "        return \"Diez\"\n",
    "    else:\n",
    "        return \"This is not from 0-10!\"\n",
    "\n",
    "name = input(\"Enter your name: \")\n",
    "num = input(\"Enter a while number from 0-10: \")\n",
    "\n",
    "name = str(name)\n",
    "num = int(num)\n",
    "\n",
    "print(\"Hello,\", name)\n",
    "print(\"Your number in Spanish is\", numInSpanish(num))"
   ]
  }
 ],
 "metadata": {
  "kernelspec": {
   "display_name": "Python 3",
   "language": "python",
   "name": "python3"
  },
  "language_info": {
   "codemirror_mode": {
    "name": "ipython",
    "version": 3
   },
   "file_extension": ".py",
   "mimetype": "text/x-python",
   "name": "python",
   "nbconvert_exporter": "python",
   "pygments_lexer": "ipython3",
   "version": "3.8.3"
  }
 },
 "nbformat": 4,
 "nbformat_minor": 4
}
